{
 "cells": [
  {
   "cell_type": "code",
   "execution_count": 8,
   "id": "90141fbe",
   "metadata": {},
   "outputs": [],
   "source": [
    "import os\n",
    "import shutil\n",
    "import splitfolders\n",
    "import cv2\n",
    "\n",
    "import pandas as pd\n",
    "import numpy as np\n",
    "import tensorflow as tf\n",
    "\n",
    "import matplotlib.pyplot as plt\n",
    "\n",
    "from tensorflow.keras.utils import img_to_array, array_to_img, load_img\n",
    "from tensorflow.keras.preprocessing.image import ImageDataGenerator"
   ]
  },
  {
   "cell_type": "code",
   "execution_count": 9,
   "id": "e0c9ba67",
   "metadata": {},
   "outputs": [
    {
     "data": {
      "text/plain": [
       "[PhysicalDevice(name='/physical_device:GPU:0', device_type='GPU')]"
      ]
     },
     "execution_count": 9,
     "metadata": {},
     "output_type": "execute_result"
    }
   ],
   "source": [
    "tf.config.list_physical_devices('GPU')"
   ]
  },
  {
   "cell_type": "code",
   "execution_count": 11,
   "id": "6a42b111",
   "metadata": {},
   "outputs": [],
   "source": [
    "DATA_DIR = './datasets'\n",
    "LABELED_DATA_DIR = f'{DATA_DIR}/raw_data'\n",
    "MODEL_DATA_DIR = f'{DATA_DIR}/model_data'"
   ]
  },
  {
   "cell_type": "code",
   "execution_count": 4,
   "id": "3b25e68a",
   "metadata": {},
   "outputs": [
    {
     "data": {
      "text/plain": [
       "(760, 6)"
      ]
     },
     "execution_count": 4,
     "metadata": {},
     "output_type": "execute_result"
    }
   ],
   "source": [
    "df = pd.read_csv(f'{DATA_DIR}/metadata.csv')\n",
    "df.shape"
   ]
  },
  {
   "cell_type": "code",
   "execution_count": 5,
   "id": "b8a8051d",
   "metadata": {},
   "outputs": [
    {
     "data": {
      "text/plain": [
       "(638, 6)"
      ]
     },
     "execution_count": 5,
     "metadata": {},
     "output_type": "execute_result"
    }
   ],
   "source": [
    "unique_classes = df['label'].value_counts()\n",
    "filtered_df = df[df['label'].isin(unique_classes[unique_classes>=10].index)]\n",
    "filtered_df.shape"
   ]
  },
  {
   "cell_type": "code",
   "execution_count": 6,
   "id": "1b46d02e",
   "metadata": {},
   "outputs": [
    {
     "name": "stdout",
     "output_type": "stream",
     "text": [
      "Total Number of Classes: 38\n"
     ]
    }
   ],
   "source": [
    "classes = filtered_df['label'].unique()\n",
    "num_of_classes = len(classes)\n",
    "print(f'Total Number of Classes: {num_of_classes}')"
   ]
  },
  {
   "cell_type": "code",
   "execution_count": 44,
   "id": "03230218",
   "metadata": {},
   "outputs": [],
   "source": [
    "try:\n",
    "    for label in classes:\n",
    "        os.makedirs(f'{LABELED_DATA_DIR}/{label}')\n",
    "except Exception as e:\n",
    "    print(e)"
   ]
  },
  {
   "cell_type": "code",
   "execution_count": 49,
   "id": "91cf0d72",
   "metadata": {},
   "outputs": [],
   "source": [
    "for i in range(len(filtered_df)):\n",
    "    shutil.copy2(f'{DATA_DIR}/images/{filtered_df.iloc[i, 0]}',\n",
    "                f'{LABELED_DATA_DIR}/{filtered_df.iloc[i, 1]}')"
   ]
  },
  {
   "cell_type": "markdown",
   "id": "51069763",
   "metadata": {},
   "source": [
    "## Augmentation"
   ]
  },
  {
   "cell_type": "code",
   "execution_count": 22,
   "id": "5ba29fcb",
   "metadata": {},
   "outputs": [],
   "source": [
    "datagen = ImageDataGenerator(zoom_range=0.1, fill_mode='nearest', rotation_range=0.1)"
   ]
  },
  {
   "cell_type": "code",
   "execution_count": 23,
   "id": "2925cf4a",
   "metadata": {},
   "outputs": [
    {
     "ename": "FileExistsError",
     "evalue": "[WinError 183] Cannot create a file when that file already exists: './alt'",
     "output_type": "error",
     "traceback": [
      "\u001b[1;31m---------------------------------------------------------------------------\u001b[0m",
      "\u001b[1;31mFileExistsError\u001b[0m                           Traceback (most recent call last)",
      "\u001b[1;32m~\\AppData\\Local\\Temp\\ipykernel_16584\\9741444.py\u001b[0m in \u001b[0;36m<module>\u001b[1;34m\u001b[0m\n\u001b[1;32m----> 1\u001b[1;33m \u001b[0mos\u001b[0m\u001b[1;33m.\u001b[0m\u001b[0mmakedirs\u001b[0m\u001b[1;33m(\u001b[0m\u001b[1;34m'./alt'\u001b[0m\u001b[1;33m)\u001b[0m\u001b[1;33m\u001b[0m\u001b[1;33m\u001b[0m\u001b[0m\n\u001b[0m",
      "\u001b[1;32mD:\\Anaconda\\lib\\os.py\u001b[0m in \u001b[0;36mmakedirs\u001b[1;34m(name, mode, exist_ok)\u001b[0m\n\u001b[0;32m    223\u001b[0m             \u001b[1;32mreturn\u001b[0m\u001b[1;33m\u001b[0m\u001b[1;33m\u001b[0m\u001b[0m\n\u001b[0;32m    224\u001b[0m     \u001b[1;32mtry\u001b[0m\u001b[1;33m:\u001b[0m\u001b[1;33m\u001b[0m\u001b[1;33m\u001b[0m\u001b[0m\n\u001b[1;32m--> 225\u001b[1;33m         \u001b[0mmkdir\u001b[0m\u001b[1;33m(\u001b[0m\u001b[0mname\u001b[0m\u001b[1;33m,\u001b[0m \u001b[0mmode\u001b[0m\u001b[1;33m)\u001b[0m\u001b[1;33m\u001b[0m\u001b[1;33m\u001b[0m\u001b[0m\n\u001b[0m\u001b[0;32m    226\u001b[0m     \u001b[1;32mexcept\u001b[0m \u001b[0mOSError\u001b[0m\u001b[1;33m:\u001b[0m\u001b[1;33m\u001b[0m\u001b[1;33m\u001b[0m\u001b[0m\n\u001b[0;32m    227\u001b[0m         \u001b[1;31m# Cannot rely on checking for EEXIST, since the operating system\u001b[0m\u001b[1;33m\u001b[0m\u001b[1;33m\u001b[0m\u001b[0m\n",
      "\u001b[1;31mFileExistsError\u001b[0m: [WinError 183] Cannot create a file when that file already exists: './alt'"
     ]
    }
   ],
   "source": [
    "os.makedirs('./alt')"
   ]
  },
  {
   "cell_type": "code",
   "execution_count": 24,
   "id": "c550bd5a",
   "metadata": {},
   "outputs": [],
   "source": [
    "try:\n",
    "    for label in os.listdir('./short_dataset'):\n",
    "        os.makedirs(f'./alt/{label}')\n",
    "except Exception as e:\n",
    "    print(e)"
   ]
  },
  {
   "cell_type": "code",
   "execution_count": 25,
   "id": "27ccb74a",
   "metadata": {},
   "outputs": [],
   "source": [
    "for label in os.listdir('./short_dataset'):\n",
    "    files = os.listdir(f'./short_dataset/{label}')\n",
    "    for image in files:\n",
    "        shutil.copy2(f'./short_dataset/{label}/{image}', f'./alt/{label}')"
   ]
  },
  {
   "cell_type": "code",
   "execution_count": null,
   "id": "dcc2542d",
   "metadata": {},
   "outputs": [],
   "source": []
  },
  {
   "cell_type": "code",
   "execution_count": 26,
   "id": "77b9aad5",
   "metadata": {},
   "outputs": [],
   "source": [
    "folder_dir = './short_dataset'\n",
    "\n",
    "for label in os.listdir('./short_dataset'):\n",
    "    for image in os.listdir(f'{folder_dir}/{label}'):\n",
    "        img = load_img(os.path.join(f'{folder_dir}/{label}', image))\n",
    "        factor = 1.5\n",
    "        x = img_to_array(img)\n",
    "        x = x.reshape((1,) + x.shape)\n",
    "        i = 0\n",
    "        for batch in datagen.flow(x, batch_size=1,\n",
    "                save_to_dir=f'./alt/{label}', save_format='png'):\n",
    "            i += 1\n",
    "            if i > 2:\n",
    "                break"
   ]
  },
  {
   "cell_type": "code",
   "execution_count": null,
   "id": "26c1a214",
   "metadata": {},
   "outputs": [],
   "source": []
  },
  {
   "cell_type": "code",
   "execution_count": 12,
   "id": "0c3c3fc7",
   "metadata": {},
   "outputs": [
    {
     "name": "stderr",
     "output_type": "stream",
     "text": [
      "Copying files: 982 files [00:07, 126.60 files/s]\n"
     ]
    }
   ],
   "source": [
    "splitfolders.ratio(LABELED_DATA_DIR, output=MODEL_DATA_DIR,\n",
    "    seed=1337, ratio=(.8, .1, .1), group_prefix=None, move=False)"
   ]
  },
  {
   "cell_type": "code",
   "execution_count": 32,
   "id": "aef4b2ac",
   "metadata": {},
   "outputs": [],
   "source": [
    "data = {\n",
    "    'image': [],\n",
    "    'label': []\n",
    "}"
   ]
  },
  {
   "cell_type": "code",
   "execution_count": 33,
   "id": "13ae068d",
   "metadata": {},
   "outputs": [],
   "source": [
    "for label in classes:\n",
    "    for image in os.listdir(f'./data/alt/{label}'):\n",
    "        shutil.copy2(f'./data/alt/{label}/{image}',\n",
    "                     f'./data/f_images')\n",
    "        data['image'].append(image)\n",
    "        data['label'].append(label)\n",
    "\n",
    "temp = pd.DataFrame(data=data)\n",
    "temp.to_csv('x.csv')"
   ]
  }
 ],
 "metadata": {
  "kernelspec": {
   "display_name": "Python 3 (ipykernel)",
   "language": "python",
   "name": "python3"
  },
  "language_info": {
   "codemirror_mode": {
    "name": "ipython",
    "version": 3
   },
   "file_extension": ".py",
   "mimetype": "text/x-python",
   "name": "python",
   "nbconvert_exporter": "python",
   "pygments_lexer": "ipython3",
   "version": "3.9.13"
  }
 },
 "nbformat": 4,
 "nbformat_minor": 5
}
